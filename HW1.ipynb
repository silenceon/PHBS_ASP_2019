{
 "cells": [
  {
   "cell_type": "markdown",
   "metadata": {},
   "source": [
    "# HW 1: Corporate Bond Pricing (due by 9.17 Tues)"
   ]
  },
  {
   "cell_type": "markdown",
   "metadata": {},
   "source": [
    "We are going to compute the price of a corporate bond (subject to default) with Monte-Carlo simulation. Assume that \n",
    "* the default time of a company follows the exponential distribution with intensity $\\lambda=$__`def_rate`__. \n",
    "* the riskfree interest rate is $r_f=$__`rf_rate`__ and the maturity of the bond is $T=$__`mat`__. \n",
    "* in the case of default, you can recover some portion ($R=$__`recovery_rate`__) of the face value.\n",
    "* the coupon is 0%, i.e., it is a zero-coupon bond.\n",
    "* the face value of the bond is 1.0\n",
    "* use compound rate for discounting; the price of the default-free bond is $e^{-r_f T}$\n",
    "\n",
    "The Problem 1 of the [2017 ASP Midterm Exam](../files/ASP2017_Midterm.pdf) will be helpful.\n",
    "\n",
    "### Instruction to upload your HW\n",
    "* Create a repository named __`PHBS_ASP_2019`__ (and clone it to your PC)\n",
    "* Copy this file to __`PHBS_ASP_2019/HW1/HW1.ipynb`__  (Please use the same name for repository and ipynb file)\n",
    "* Add solution code.\n",
    "* Run your your code to make sure that there's no error.\n",
    "* Upload (commit and sync) your file."
   ]
  },
  {
   "cell_type": "markdown",
   "metadata": {},
   "source": [
    "### 1. First, let's create a pricing function and check the std "
   ]
  },
  {
   "cell_type": "code",
   "execution_count": 2,
   "metadata": {},
   "outputs": [],
   "source": [
    "import numpy as np"
   ]
  },
  {
   "cell_type": "code",
   "execution_count": 3,
   "metadata": {},
   "outputs": [],
   "source": [
    "def_rate = 0.1\n",
    "rf_rate = 0.03\n",
    "recovery = 0.3\n",
    "mat = 10"
   ]
  },
  {
   "cell_type": "code",
   "execution_count": 4,
   "metadata": {},
   "outputs": [
    {
     "data": {
      "text/plain": [
       "(9.99064257773601, 10.0)"
      ]
     },
     "execution_count": 4,
     "metadata": {},
     "output_type": "execute_result"
    }
   ],
   "source": [
    "# First generate exponential random numbers\n",
    "# Although you can generate directly using fault_time = np.random.exponential(scale=), let's use uniform random numbers.\n",
    "n_sample = 10000\n",
    "U = np.random.uniform(size=n_sample)\n",
    "default_time = -(1/def_rate)*np.log(U)\n",
    "\n",
    "# You can check if the RNs are correct by comparing the means\n",
    "(default_time.mean(), 1/def_rate)\n"
   ]
  },
  {
   "cell_type": "code",
   "execution_count": 10,
   "metadata": {},
   "outputs": [
    {
     "name": "stdout",
     "output_type": "stream",
     "text": [
      "0.44412669061288207\n",
      "0.44053188400690074\n"
     ]
    }
   ],
   "source": [
    "# Put your code here to price the corporate bond\n",
    "\n",
    "def corp_bond(mat=1, def_rate=0.03, rf_rate=0.04, recovery=0.3, n_sample=10**6):\n",
    "    U = np.random.uniform(size=n_sample)\n",
    "    default_time = -(1/def_rate)*np.log(U)\n",
    "    \n",
    "    before = np.exp(-rf_rate*mat)*np.ones_like(default_time[default_time >= mat])\n",
    "    after = np.exp(-rf_rate*default_time[default_time < mat])*recovery\n",
    "    \n",
    "    return np.hstack([before,after]).mean()\n",
    "\n",
    "# Call your function\n",
    "print(corp_bond(mat, def_rate, rf_rate, recovery, n_sample))\n",
    "\n",
    "# Find the mean and std by calling the function 100 times. \n",
    "std = [corp_bond(mat, def_rate, rf_rate, recovery, n_sample) for i in range(100)]\n",
    "print(np.mean(std))\n",
    "    \n",
    "\n"
   ]
  },
  {
   "cell_type": "markdown",
   "metadata": {},
   "source": [
    "### 2. Now, let's improve the function by reducing the MC variations.\n",
    "1. Use antithetic method: If `U` is uniform random variable, so is `1-U`\n",
    "2. Also shift the RNs to match the mean, `1/def_rate`"
   ]
  },
  {
   "cell_type": "code",
   "execution_count": 6,
   "metadata": {},
   "outputs": [
    {
     "data": {
      "text/plain": [
       "(10.0, 10.0)"
      ]
     },
     "execution_count": 6,
     "metadata": {},
     "output_type": "execute_result"
    }
   ],
   "source": [
    "# For example, antithetic method mean\n",
    "n_sample = 10000\n",
    "U = np.random.uniform(size=n_sample//2)\n",
    "default_time = -(1/def_rate)*np.log(np.concatenate((U,1-U),axis=0))\n",
    "\n",
    "# Mean-matching means\n",
    "default_time += 1/def_rate-default_time.mean()\n",
    "(default_time.mean(), 1/def_rate)"
   ]
  },
  {
   "cell_type": "code",
   "execution_count": 8,
   "metadata": {},
   "outputs": [
    {
     "name": "stdout",
     "output_type": "stream",
     "text": [
      "method_1: mean = 0.440450, std = 0.001659\n",
      "method_2: mean = 0.440270, std = 0.001668\n",
      "method_3: mean = 0.440682, std = 0.001462\n"
     ]
    }
   ],
   "source": [
    "# No include the two new features: `antithetic` and `mean_match`\n",
    "\n",
    "def corp_bond_cv(mat=1, def_rate=0.03, rf_rate=0.04, recovery=0.3, n_sample=10**4, antithetic=True, mean_match=True):\n",
    "    if antithetic and mean_match:\n",
    "        U = np.random.uniform(size=n_sample//2)\n",
    "        default_time = -(1/def_rate)*np.log(np.concatenate((U,1-U),axis=0))        \n",
    "        default_time += 1/def_rate-default_time.mean()    \n",
    "    \n",
    "    elif(antithetic):\n",
    "        U = np.random.uniform(size=n_sample//2)\n",
    "        default_time = -(1/def_rate)*np.log(np.concatenate((U,1-U),axis=0))\n",
    "        \n",
    "    elif(mean_match):\n",
    "        U = np.random.uniform(size=n_sample)\n",
    "        default_time = -(1/def_rate)*np.log(U)\n",
    "        default_time += 1/def_rate-default_time.mean()\n",
    "        \n",
    "    else:\n",
    "        U = np.random.uniform(size=n_sample)\n",
    "        default_time = -(1/def_rate)*np.log(U)\n",
    "    \n",
    "    before = np.exp(-rf_rate*mat)*np.ones_like(default_time[default_time >= mat])\n",
    "    after = np.exp(-rf_rate*default_time[default_time < mat])*recovery\n",
    "    \n",
    "    return np.hstack([before,after]).mean()\n",
    "\n",
    "\n",
    "# Find the mean and std by calling the function 100 times for (i) antithetic (ii) mean_match and (iii) both\n",
    "\n",
    "method_1 = np.array([corp_bond_cv(mat, def_rate, rf_rate, recovery, n_sample=10**4, antithetic=True, mean_match=False) for i in range(100)])\n",
    "method_2 = np.array([corp_bond_cv(mat, def_rate, rf_rate, recovery, n_sample=10**4, antithetic=False, mean_match=True) for i in range(100)])\n",
    "method_3 = np.array([corp_bond_cv(mat, def_rate, rf_rate, recovery, n_sample=10**4, antithetic=True, mean_match=True) for i in range(100)])\n",
    "\n",
    "method = [method_1,method_2,method_3]\n",
    "\n",
    "for i in range(len(method)):\n",
    "    print(\"method_%s: mean = %0.6f, std = %0.6f\"%(i+1,method[i].mean(),method[i].std()))"
   ]
  },
  {
   "cell_type": "markdown",
   "metadata": {
    "collapsed": true
   },
   "source": [
    "### 3. Finally, what is the analytic value of the corporate bond? How does it compare to your MC result above?"
   ]
  },
  {
   "cell_type": "code",
   "execution_count": 9,
   "metadata": {},
   "outputs": [
    {
     "name": "stdout",
     "output_type": "stream",
     "text": [
      "analytic value is 0.440409\n",
      "method_1 deviation: 0.000041\n",
      "method_2 deviation: -0.000139\n",
      "method_3 deviation: 0.000273\n"
     ]
    }
   ],
   "source": [
    "### Put the analytic expression for the corporate bond price\n",
    "def corp_bond_analytic(mat=1, def_rate=0.03, rf_rate=0.04, recovery=0.3):\n",
    "    return def_rate/(def_rate+rf_rate)*(1-np.exp(-mat*(def_rate+rf_rate)))*recovery+np.exp(-mat*(def_rate+rf_rate))\n",
    "\n",
    "print(\"analytic value is %0.6f\"%corp_bond_analytic(mat, def_rate, rf_rate, recovery))\n",
    "for i in range(len(method)):\n",
    "    print(\"method_%s deviation: %0.6f\"%(i+1,method[i].mean()-corp_bond_analytic(mat, def_rate, rf_rate, recovery)))"
   ]
  },
  {
   "cell_type": "code",
   "execution_count": null,
   "metadata": {},
   "outputs": [],
   "source": []
  }
 ],
 "metadata": {
  "anaconda-cloud": {},
  "kernelspec": {
   "display_name": "Python 3",
   "language": "python",
   "name": "python3"
  },
  "language_info": {
   "codemirror_mode": {
    "name": "ipython",
    "version": 3
   },
   "file_extension": ".py",
   "mimetype": "text/x-python",
   "name": "python",
   "nbconvert_exporter": "python",
   "pygments_lexer": "ipython3",
   "version": "3.7.3"
  }
 },
 "nbformat": 4,
 "nbformat_minor": 1
}
